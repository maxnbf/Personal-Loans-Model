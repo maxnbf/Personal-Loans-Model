{
 "cells": [
  {
   "cell_type": "code",
   "execution_count": 8,
   "metadata": {},
   "outputs": [
    {
     "name": "stdout",
     "output_type": "stream",
     "text": [
      "['Gender', 'Married', 'Education', 'LoanAmount', 'Loan_Amount_Term', 'Credit_History', 'Property_Area']\n"
     ]
    },
    {
     "name": "stderr",
     "output_type": "stream",
     "text": [
      "<ipython-input-8-203d7726c819>:13: FutureWarning: The default value of regex will change from True to False in a future version. In addition, single character regular expressions will*not* be treated as literal strings when regex=True.\n",
      "  df[\"Total_Income\"]=df[\"Total_Income\"].str.replace(\"$\",\"\")\n",
      "<ipython-input-8-203d7726c819>:16: FutureWarning: The default value of regex will change from True to False in a future version. In addition, single character regular expressions will*not* be treated as literal strings when regex=True.\n",
      "  df[\"Dependents\"]=df[\"Dependents\"].str.replace('+','')\n"
     ]
    }
   ],
   "source": [
    "import pandas as pd\n",
    "from sklearn.feature_selection import SelectKBest, f_regression\n",
    "from sklearn.model_selection import train_test_split\n",
    "import matplotlib.pyplot as plt\n",
    "import seaborn as sns\n",
    "from scipy.stats import norm\n",
    "from sklearn.preprocessing import StandardScaler\n",
    "\n",
    "df = pd.read_csv('df1_loan.csv', index_col =0)\n",
    "\n",
    "del df[\"Loan_ID\"]\n",
    "\n",
    "df[\"Total_Income\"]=df[\"Total_Income\"].str.replace(\"$\",\"\")\n",
    "df[\"Total_Income\"]=df[\"Total_Income\"].apply(pd.to_numeric)\n",
    "\n",
    "df[\"Dependents\"]=df[\"Dependents\"].str.replace('+','')\n",
    "df[\"Dependents\"]=df[\"Dependents\"].apply(pd.to_numeric)\n",
    "\n",
    "\n",
    "df[\"Self_Employed\"] = df[\"Self_Employed\"].astype('category').cat.codes\n",
    "df[\"Gender\"] = df[\"Gender\"].astype('category').cat.codes\n",
    "df[\"Married\"] = df[\"Married\"].astype('category').cat.codes\n",
    "df[\"Education\"] = df[\"Education\"].astype('category').cat.codes\n",
    "df[\"Property_Area\"] = df[\"Property_Area\"].astype('category').cat.codes\n",
    "df[\"Loan_Status\"] = df[\"Loan_Status\"].astype('category').cat.codes\n",
    "\n",
    "\n",
    "df = df.dropna()\n",
    "\n",
    "def fam_size():\n",
    "    df[\"Familiy_Size\"] = []\n",
    "    for i in df[\"Married\"]:\n",
    "        if i == 1:\n",
    "            df[\"Familiy_Size\"].append(1)\n",
    "        else:\n",
    "            df[\"Familiy_Size\"].append(0)\n",
    "    # Now just need to loop and add dependents to each one. sorry, its 2pm and im gay\n",
    "\n",
    "def get_features_target():\n",
    "\n",
    "    target_column = f\"Loan_Status\"\n",
    "    target = df[target_column].dropna()\n",
    "\n",
    "    df2 = df.copy()\n",
    "    del df2[target_column]\n",
    "\n",
    "        \n",
    "    scaler = StandardScaler()\n",
    "    scaler.fit(df2)\n",
    "    df2 = scaler.transform(df2)\n",
    "\n",
    "    return df2, target\n",
    "\n",
    "\n",
    "\n",
    "# features, target = get_features_target()\n",
    "\n",
    "\n",
    "def k_best_features(k, features, target):\n",
    "    \n",
    "    X_train, X_test, y_train, y_test = train_test_split(features, target, random_state=3000)\n",
    "  \n",
    "    selector = SelectKBest(f_regression, k = k)\n",
    "    selector.fit(X_train, y_train)\n",
    "\n",
    "    selected = selector.get_support()\n",
    "  \n",
    "    columns = []\n",
    "    for i in range(len(selected)):\n",
    "        if selected[i]:\n",
    "            columns.append(df.columns[i])\n",
    "\n",
    "    return columns\n",
    "\n",
    "features, target = get_features_target()\n",
    "print(k_best_features(7, features, target))\n"
   ]
  },
  {
   "cell_type": "code",
   "execution_count": 9,
   "metadata": {},
   "outputs": [
    {
     "data": {
      "image/png": "[encoded data removed]",
      "text/plain": [
       "<Figure size 432x288 with 1 Axes>"
      ]
     },
     "metadata": {
      "needs_background": "light"
     },
     "output_type": "display_data"
    }
   ],
   "source": [
    "from sklearn.ensemble import RandomForestRegressor\n",
    "from sklearn.model_selection import train_test_split\n",
    "%matplotlib inline\n",
    "import matplotlib.pyplot as plt\n",
    "import numpy as np\n",
    "\n",
    "# top features for regression model\n",
    "target_reg = df[\"Loan_Status\"]\n",
    "X_train_reg, X_test_reg, y_train_reg, y_test_reg = train_test_split(features, target_reg, random_state=1000)\n",
    "\n",
    "model = RandomForestRegressor(max_depth=10, random_state=1000)\n",
    "model.fit(X_train_reg,y_train_reg)\n",
    "\n",
    "reg_columns = df.columns\n",
    "importances = model.feature_importances_\n",
    "indices = np.argsort(importances)[-5:]  # top 5 features\n",
    "plt.title('Regression Feature Importances')\n",
    "plt.barh(range(len(indices)), importances[indices], color='b', align='center')\n",
    "plt.yticks(range(len(indices)), [reg_columns[i] for i in indices])\n",
    "plt.xlabel('Relative Importance')\n",
    "plt.show()"
   ]
  },
  {
   "cell_type": "code",
   "execution_count": null,
   "metadata": {},
   "outputs": [
    {
     "name": "stdout",
     "output_type": "stream",
     "text": [
      "0.8203174603174606        score  train_acc  test_acc\n",
      "0   0.847619   0.789809  0.847619\n",
      "1   0.866667   0.786624  0.866667\n",
      "2   0.838095   0.789809  0.838095\n",
      "3   0.790476   0.815287  0.790476\n",
      "4   0.771429   0.818471  0.771429\n",
      "5   0.838095   0.802548  0.838095\n",
      "6   0.885714   0.773885  0.885714\n",
      "7   0.800000   0.815287  0.800000\n",
      "8   0.780952   0.821656  0.780952\n",
      "9   0.780952   0.812102  0.780952\n",
      "10  0.857143   0.789809  0.857143\n",
      "11  0.809524   0.805732  0.809524\n",
      "12  0.828571   0.802548  0.828571\n",
      "13  0.809524   0.802548  0.809524\n",
      "14  0.800000   0.808917  0.800000\n"
     ]
    }
   ],
   "source": [
    "from sklearn.model_selection import train_test_split\n",
    "from sklearn.svm import LinearSVC\n",
    "from sklearn.svm import SVC\n",
    "from sklearn.linear_model import LogisticRegression\n",
    "data_rows = []\n",
    "\n",
    "\n",
    "total_score = 0\n",
    "for i in range(15):\n",
    "    X_train, X_test, y_train, y_test = train_test_split(features, target)\n",
    "    \n",
    "    #sklearnSVC = SVC(kernel = \"poly\", max_iter=10000).fit(X_train, y_train)\n",
    "    #sklearnSVC = LinearSVC(max_iter=10000).fit(X_train, y_train)\n",
    "    sklearnSVC = LogisticRegression(max_iter=10000).fit(X_train, y_train)\n",
    "\n",
    "    #coef, intercept = sklearnSVC.coef_, sklearnSVC.intercept_\n",
    "    #print(coef, intercept)\n",
    "    y_pred_train = sklearnSVC.predict(X_train)\n",
    "    y_pred_test = sklearnSVC.predict(X_test)\n",
    "    train_error = np.sum(y_pred_train != y_train) / (1.0 * X_train.shape[0])\n",
    "    test_error = np.sum(y_pred_test != y_test) / (1.0 * X_test.shape[0])\n",
    "    score = sklearnSVC.score(X_test, y_test)\n",
    "    total_score += score\n",
    "    data_rows.append({\n",
    "            \"score\": score,\n",
    "            \"train_acc\": (1-train_error),\n",
    "            \"test_acc\": (1-test_error)\n",
    "        })\n",
    "\n",
    "test_df = pd.DataFrame(data_rows)\n",
    "print(total_score/15, test_df)\n"
   ]
  },
  {
   "cell_type": "code",
   "execution_count": null,
   "metadata": {},
   "outputs": [],
   "source": [
    "import numpy as np \n",
    "def plot_NN_data(x_train, y_train):\n",
    "    x_t0, x_t1 = x_train[np.where(y_train == 0)[0]], x_train[np.where(y_train == 1)[0]]\n",
    "    plt.scatter(x_t0[:,0], x_t0[:,1], color='blue', label='class c:-1', marker='s')\n",
    "    plt.scatter(x_t1[:,0], x_t1[:,1], color='red', label='class c:1', marker=\"o\")\n",
    "\n",
    "    plt.legend()\n",
    "    plt.xlabel('x1')\n",
    "    plt.ylabel('x2')\n",
    "    ax = plt.gca()\n",
    "    ax.autoscale(False)\n",
    "    plt.show()\n",
    "\n",
    "#sns.pairplot(df, hue='Loan_Status')\n",
    "#f = features[\"ApplicantIncome\"].zip(features[\"Gender\"])\n",
    "#f\n",
    "#plot_NN_data(f, target)\n",
    "\n"
   ]
  }
 ],
 "metadata": {
  "interpreter": {
   "hash": "cf81c6e26478d1c30591ba7e2b0f5435dda96e3b5f4bb1bb7824f3f9f5ac3a2c"
  },
  "kernelspec": {
   "display_name": "Python 3.7.4 64-bit ('base': conda)",
   "language": "python",
   "name": "python3"
  },
  "language_info": {
   "codemirror_mode": {
    "name": "ipython",
    "version": 3
   },
   "file_extension": ".py",
   "mimetype": "text/x-python",
   "name": "python",
   "nbconvert_exporter": "python",
   "pygments_lexer": "ipython3",
   "version": "3.8.8"
  },
  "orig_nbformat": 4
 },
 "nbformat": 4,
 "nbformat_minor": 2
}
